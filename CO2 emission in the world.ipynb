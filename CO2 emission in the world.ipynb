{
 "cells": [
  {
   "cell_type": "code",
   "execution_count": 129,
   "id": "29ca24bc",
   "metadata": {},
   "outputs": [],
   "source": [
    "import pandas as pd\n",
    "import numpy as np\n",
    "import matplotlib.pyplot as plt\n",
    "import seaborn as sns\n",
    "import ipywidgets as wi"
   ]
  },
  {
   "cell_type": "code",
   "execution_count": 3,
   "id": "f1bf0f74",
   "metadata": {},
   "outputs": [
    {
     "data": {
      "text/html": [
       "<div>\n",
       "<style scoped>\n",
       "    .dataframe tbody tr th:only-of-type {\n",
       "        vertical-align: middle;\n",
       "    }\n",
       "\n",
       "    .dataframe tbody tr th {\n",
       "        vertical-align: top;\n",
       "    }\n",
       "\n",
       "    .dataframe thead th {\n",
       "        text-align: right;\n",
       "    }\n",
       "</style>\n",
       "<table border=\"1\" class=\"dataframe\">\n",
       "  <thead>\n",
       "    <tr style=\"text-align: right;\">\n",
       "      <th></th>\n",
       "      <th>country_code</th>\n",
       "      <th>country_name</th>\n",
       "      <th>year</th>\n",
       "      <th>value</th>\n",
       "    </tr>\n",
       "  </thead>\n",
       "  <tbody>\n",
       "    <tr>\n",
       "      <th>0</th>\n",
       "      <td>ABW</td>\n",
       "      <td>Aruba</td>\n",
       "      <td>1960</td>\n",
       "      <td>11092.675</td>\n",
       "    </tr>\n",
       "    <tr>\n",
       "      <th>1</th>\n",
       "      <td>ABW</td>\n",
       "      <td>Aruba</td>\n",
       "      <td>1961</td>\n",
       "      <td>11576.719</td>\n",
       "    </tr>\n",
       "    <tr>\n",
       "      <th>2</th>\n",
       "      <td>ABW</td>\n",
       "      <td>Aruba</td>\n",
       "      <td>1962</td>\n",
       "      <td>12713.489</td>\n",
       "    </tr>\n",
       "    <tr>\n",
       "      <th>3</th>\n",
       "      <td>ABW</td>\n",
       "      <td>Aruba</td>\n",
       "      <td>1963</td>\n",
       "      <td>12178.107</td>\n",
       "    </tr>\n",
       "    <tr>\n",
       "      <th>4</th>\n",
       "      <td>ABW</td>\n",
       "      <td>Aruba</td>\n",
       "      <td>1964</td>\n",
       "      <td>11840.743</td>\n",
       "    </tr>\n",
       "  </tbody>\n",
       "</table>\n",
       "</div>"
      ],
      "text/plain": [
       "  country_code country_name  year      value\n",
       "0          ABW        Aruba  1960  11092.675\n",
       "1          ABW        Aruba  1961  11576.719\n",
       "2          ABW        Aruba  1962  12713.489\n",
       "3          ABW        Aruba  1963  12178.107\n",
       "4          ABW        Aruba  1964  11840.743"
      ]
     },
     "execution_count": 3,
     "metadata": {},
     "output_type": "execute_result"
    }
   ],
   "source": [
    "df = pd.read_csv(\"./co2_emissions_kt_by_country.csv\")\n",
    "df.head()"
   ]
  },
  {
   "cell_type": "code",
   "execution_count": 4,
   "id": "5a5554c3",
   "metadata": {},
   "outputs": [
    {
     "data": {
      "text/plain": [
       "(13953, 4)"
      ]
     },
     "execution_count": 4,
     "metadata": {},
     "output_type": "execute_result"
    }
   ],
   "source": [
    "df.shape"
   ]
  },
  {
   "cell_type": "markdown",
   "id": "a9f2a279",
   "metadata": {},
   "source": [
    "This dataset contain 13953 and 4 columns."
   ]
  },
  {
   "cell_type": "code",
   "execution_count": 5,
   "id": "5db34a7a",
   "metadata": {},
   "outputs": [
    {
     "data": {
      "text/plain": [
       "Index(['country_code', 'country_name', 'year', 'value'], dtype='object')"
      ]
     },
     "execution_count": 5,
     "metadata": {},
     "output_type": "execute_result"
    }
   ],
   "source": [
    "df.columns"
   ]
  },
  {
   "cell_type": "markdown",
   "id": "9c1d5b68",
   "metadata": {},
   "source": [
    "It has 'country_code', 'country_name', 'year', 'value' columns."
   ]
  },
  {
   "cell_type": "code",
   "execution_count": 6,
   "id": "98997aae",
   "metadata": {},
   "outputs": [
    {
     "name": "stdout",
     "output_type": "stream",
     "text": [
      "<class 'pandas.core.frame.DataFrame'>\n",
      "RangeIndex: 13953 entries, 0 to 13952\n",
      "Data columns (total 4 columns):\n",
      " #   Column        Non-Null Count  Dtype  \n",
      "---  ------        --------------  -----  \n",
      " 0   country_code  13953 non-null  object \n",
      " 1   country_name  13953 non-null  object \n",
      " 2   year          13953 non-null  int64  \n",
      " 3   value         13953 non-null  float64\n",
      "dtypes: float64(1), int64(1), object(2)\n",
      "memory usage: 436.2+ KB\n"
     ]
    }
   ],
   "source": [
    "df.info()"
   ]
  },
  {
   "cell_type": "code",
   "execution_count": 7,
   "id": "3c9be911",
   "metadata": {},
   "outputs": [
    {
     "data": {
      "text/plain": [
       "0"
      ]
     },
     "execution_count": 7,
     "metadata": {},
     "output_type": "execute_result"
    }
   ],
   "source": [
    "df.duplicated().sum()"
   ]
  },
  {
   "cell_type": "markdown",
   "id": "68cc2453",
   "metadata": {},
   "source": [
    "This dataset doesn't contain any duplicate values."
   ]
  },
  {
   "cell_type": "code",
   "execution_count": 8,
   "id": "d33b4604",
   "metadata": {},
   "outputs": [
    {
     "data": {
      "text/plain": [
       "country_code    0\n",
       "country_name    0\n",
       "year            0\n",
       "value           0\n",
       "dtype: int64"
      ]
     },
     "execution_count": 8,
     "metadata": {},
     "output_type": "execute_result"
    }
   ],
   "source": [
    "df.isnull().sum()"
   ]
  },
  {
   "cell_type": "markdown",
   "id": "a9a05572",
   "metadata": {},
   "source": [
    "Any of the columns hasn't an null values in this dataset."
   ]
  },
  {
   "cell_type": "code",
   "execution_count": 9,
   "id": "29fedd88",
   "metadata": {},
   "outputs": [
    {
     "data": {
      "text/html": [
       "<div>\n",
       "<style scoped>\n",
       "    .dataframe tbody tr th:only-of-type {\n",
       "        vertical-align: middle;\n",
       "    }\n",
       "\n",
       "    .dataframe tbody tr th {\n",
       "        vertical-align: top;\n",
       "    }\n",
       "\n",
       "    .dataframe thead th {\n",
       "        text-align: right;\n",
       "    }\n",
       "</style>\n",
       "<table border=\"1\" class=\"dataframe\">\n",
       "  <thead>\n",
       "    <tr style=\"text-align: right;\">\n",
       "      <th></th>\n",
       "      <th>year</th>\n",
       "      <th>value</th>\n",
       "    </tr>\n",
       "  </thead>\n",
       "  <tbody>\n",
       "    <tr>\n",
       "      <th>count</th>\n",
       "      <td>13953.000000</td>\n",
       "      <td>1.395300e+04</td>\n",
       "    </tr>\n",
       "    <tr>\n",
       "      <th>mean</th>\n",
       "      <td>1990.732316</td>\n",
       "      <td>8.254983e+05</td>\n",
       "    </tr>\n",
       "    <tr>\n",
       "      <th>std</th>\n",
       "      <td>17.187585</td>\n",
       "      <td>2.788923e+06</td>\n",
       "    </tr>\n",
       "    <tr>\n",
       "      <th>min</th>\n",
       "      <td>1960.000000</td>\n",
       "      <td>-8.067400e+01</td>\n",
       "    </tr>\n",
       "    <tr>\n",
       "      <th>25%</th>\n",
       "      <td>1976.000000</td>\n",
       "      <td>1.100000e+03</td>\n",
       "    </tr>\n",
       "    <tr>\n",
       "      <th>50%</th>\n",
       "      <td>1992.000000</td>\n",
       "      <td>1.390000e+04</td>\n",
       "    </tr>\n",
       "    <tr>\n",
       "      <th>75%</th>\n",
       "      <td>2006.000000</td>\n",
       "      <td>1.642779e+05</td>\n",
       "    </tr>\n",
       "    <tr>\n",
       "      <th>max</th>\n",
       "      <td>2019.000000</td>\n",
       "      <td>3.434401e+07</td>\n",
       "    </tr>\n",
       "  </tbody>\n",
       "</table>\n",
       "</div>"
      ],
      "text/plain": [
       "               year         value\n",
       "count  13953.000000  1.395300e+04\n",
       "mean    1990.732316  8.254983e+05\n",
       "std       17.187585  2.788923e+06\n",
       "min     1960.000000 -8.067400e+01\n",
       "25%     1976.000000  1.100000e+03\n",
       "50%     1992.000000  1.390000e+04\n",
       "75%     2006.000000  1.642779e+05\n",
       "max     2019.000000  3.434401e+07"
      ]
     },
     "execution_count": 9,
     "metadata": {},
     "output_type": "execute_result"
    }
   ],
   "source": [
    "df.describe()"
   ]
  },
  {
   "cell_type": "code",
   "execution_count": 132,
   "id": "bcb750e0",
   "metadata": {},
   "outputs": [
    {
     "data": {
      "application/vnd.jupyter.widget-view+json": {
       "model_id": "11a3de138b0444368a81f9d6b045fe60",
       "version_major": 2,
       "version_minor": 0
      },
      "text/plain": [
       "interactive(children=(Dropdown(description='Country', options=('Afghanistan', 'Africa Eastern and Southern', '…"
      ]
     },
     "metadata": {},
     "output_type": "display_data"
    }
   ],
   "source": [
    "c = np.sort(df['country_name'].unique())\n",
    "def plot(Country):\n",
    "    du = df[df['country_name'] == Country]\n",
    "    sns.set()\n",
    "    plt.figure(figsize = (12, 6))\n",
    "    sns.lineplot(x = 'year', y = 'value', data = du,hue = 'country_name')\n",
    "    plt.show()\n",
    "\n",
    "wi.interact(plot, Country = c);"
   ]
  },
  {
   "cell_type": "code",
   "execution_count": 139,
   "id": "886d8db5",
   "metadata": {},
   "outputs": [
    {
     "data": {
      "text/plain": [
       "year\n",
       "1960    7.703980e+07\n",
       "1961    7.630320e+07\n",
       "1962    7.859003e+07\n",
       "1963    8.311816e+07\n",
       "1964    8.770606e+07\n",
       "1965    9.269911e+07\n",
       "1966    9.771524e+07\n",
       "1967    1.008684e+08\n",
       "1968    1.063929e+08\n",
       "1969    1.136738e+08\n",
       "1970    1.241515e+08\n",
       "1971    1.303641e+08\n",
       "1972    1.366666e+08\n",
       "1973    1.441161e+08\n",
       "1974    1.453979e+08\n",
       "1975    1.481563e+08\n",
       "1976    1.560993e+08\n",
       "1977    1.616111e+08\n",
       "1978    1.685185e+08\n",
       "1979    1.731335e+08\n",
       "1980    1.738361e+08\n",
       "1981    1.699399e+08\n",
       "1982    1.713624e+08\n",
       "1983    1.737702e+08\n",
       "1984    1.787891e+08\n",
       "1985    1.871233e+08\n",
       "1986    1.901554e+08\n",
       "1987    1.954863e+08\n",
       "1988    2.030731e+08\n",
       "1989    2.057422e+08\n",
       "1990    1.770351e+08\n",
       "1991    1.784918e+08\n",
       "1992    1.784469e+08\n",
       "1993    1.794468e+08\n",
       "1994    1.797755e+08\n",
       "1995    1.856091e+08\n",
       "1996    1.891167e+08\n",
       "1997    1.920132e+08\n",
       "1998    1.932884e+08\n",
       "1999    1.938037e+08\n",
       "2000    2.002524e+08\n",
       "2001    2.044489e+08\n",
       "2002    2.083541e+08\n",
       "2003    2.197574e+08\n",
       "2004    2.316484e+08\n",
       "2005    2.421461e+08\n",
       "2006    2.522002e+08\n",
       "2007    2.629716e+08\n",
       "2008    2.666201e+08\n",
       "2009    2.660903e+08\n",
       "2010    2.831823e+08\n",
       "2011    2.948560e+08\n",
       "2012    3.001712e+08\n",
       "2013    3.068545e+08\n",
       "2014    3.082892e+08\n",
       "2015    3.064690e+08\n",
       "2016    3.073667e+08\n",
       "2017    3.131247e+08\n",
       "2018    3.213406e+08\n",
       "2019    3.234079e+08\n",
       "Name: value, dtype: float64"
      ]
     },
     "execution_count": 139,
     "metadata": {},
     "output_type": "execute_result"
    }
   ],
   "source": [
    "total = df.groupby('year')['value'].sum()\n",
    "total"
   ]
  },
  {
   "cell_type": "code",
   "execution_count": 141,
   "id": "072556c8",
   "metadata": {},
   "outputs": [
    {
     "data": {
      "image/png": "[encoded data removed]",
      "text/plain": [
       "<Figure size 1000x600 with 1 Axes>"
      ]
     },
     "metadata": {},
     "output_type": "display_data"
    }
   ],
   "source": [
    "plt.figure(figsize=(10, 6))\n",
    "sns.lineplot(x= total.index, y=total.values)\n",
    "plt.xlabel('Year')\n",
    "plt.ylabel('Total CO2 Emissions (kt)')\n",
    "plt.title('Total CO2 Emissions by Year')\n",
    "plt.show()"
   ]
  }
 ],
 "metadata": {
  "kernelspec": {
   "display_name": "Python 3 (ipykernel)",
   "language": "python",
   "name": "python3"
  },
  "language_info": {
   "codemirror_mode": {
    "name": "ipython",
    "version": 3
   },
   "file_extension": ".py",
   "mimetype": "text/x-python",
   "name": "python",
   "nbconvert_exporter": "python",
   "pygments_lexer": "ipython3",
   "version": "3.9.13"
  }
 },
 "nbformat": 4,
 "nbformat_minor": 5
}
